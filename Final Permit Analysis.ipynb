{
 "cells": [
  {
   "cell_type": "code",
   "execution_count": 15,
   "metadata": {},
   "outputs": [],
   "source": [
    "import pandas as pd\n",
    "import csv\n",
    "import geopandas as gp\n",
    "df = pd.read_csv('permits_master_1.csv', dtype={'CN': str, 'RRFFDD': str, 'region': str, 'forest': str, 'district': str})"
   ]
  },
  {
   "cell_type": "code",
   "execution_count": 5,
   "metadata": {},
   "outputs": [],
   "source": [
    "zipfile = \"zip:///Users/cmcglade/Documents/S_USA.RangerDistrict.zip\"\n",
    "districts = gp.read_file(zipfile)\n",
    "districts = districts.to_crs('EPSG:5070')"
   ]
  },
  {
   "cell_type": "markdown",
   "metadata": {},
   "source": [
    "# Select for currently authorized permits / easements and format dates"
   ]
  },
  {
   "cell_type": "code",
   "execution_count": 16,
   "metadata": {},
   "outputs": [],
   "source": [
    "#select for active permits\n",
    "active = ['ISSUED']\n",
    "active_permits =  df[df['STATUS'].str.contains('|'.join(active)) == True].copy() \n",
    "#format dates \n",
    "active_permits['ISSUE_DATE'] = pd.to_datetime(active_permits['ISSUE_DATE'])\n",
    "active_permits['EXP_EXPIRATION_DATE'] = pd.to_datetime(active_permits['EXP_EXPIRATION_DATE'])"
   ]
  },
  {
   "cell_type": "markdown",
   "metadata": {},
   "source": [
    "# Make separate dataframes for relevant variables\n",
    "Blank Expiration Dates\n",
    "\n",
    "Has an expiration date value, so the FS likely has discretion over it\n",
    "\n",
    "Expired for at least three years (Before 09/03/2018)\n",
    "\n",
    "Ditch Bill Act easements\n",
    "\n",
    "Recently issued permits (Since 1/1/2012)"
   ]
  },
  {
   "cell_type": "code",
   "execution_count": 18,
   "metadata": {},
   "outputs": [],
   "source": [
    "#NO EXPIRATION DATE\n",
    "bool_series = pd.isnull(active_permits['EXP_EXPIRATION_DATE'])\n",
    "activepermitsnodate = active_permits[bool_series]\n",
    "\n",
    "#HAS EXPIRATION DATE, the ones the FS has power over\n",
    "fs_discretion = active_permits[~active_permits['EXP_EXPIRATION_DATE'].isnull()]\n",
    "\n",
    "#EXPIRED AT LEAST THREE YEARS\n",
    "active_permits['EXP_EXPIRATION_DATE'] = pd.to_datetime(active_permits['EXP_EXPIRATION_DATE'])\n",
    "expired = active_permits[active_permits['EXP_EXPIRATION_DATE'] < '09/03/2018']\n",
    "\n",
    "#DITCHBILLS\n",
    "#there are very few instances in which a Use1 is a ditchbill but the use 2 and use 3 is not \n",
    "ditchbill =  activepermitsnodate[activepermitsnodate['USE1_NAME'].str.contains('PL 99-545') == True] \n",
    "\n",
    "#RECENT\n",
    "recentpermits = active_permits[active_permits['ISSUE_DATE'] >= '01/01/2012']"
   ]
  },
  {
   "cell_type": "markdown",
   "metadata": {},
   "source": [
    "# Group these variables by Forest "
   ]
  },
  {
   "cell_type": "code",
   "execution_count": 21,
   "metadata": {},
   "outputs": [],
   "source": [
    "#total permits by forest\n",
    "totalpermits = active_permits.groupby('FORESTNAME')['FORESTNAME'].count().to_frame(name = 'total_structures').reset_index()\n",
    "\n",
    "#total expired permits by forest\n",
    "total_ex_permits = expired.groupby('FORESTNAME')['FORESTNAME'].count().to_frame(name = 'expired').reset_index()\n",
    "\n",
    "#total blank exp per forest \n",
    "total_no_date = activepermitsnodate.groupby('FORESTNAME')['FORESTNAME'].count().to_frame(name = 'blank_expiration').reset_index()\n",
    "\n",
    "#total ditch bills per forest\n",
    "ditchbills = ditchbill.groupby('FORESTNAME')['FORESTNAME'].count().to_frame(name = 'ditchbill').reset_index()\n",
    "\n",
    "#total discretionary permits per forest\n",
    "discretion = fs_discretion.groupby('FORESTNAME')['FORESTNAME'].count().to_frame(name = 'discretion').reset_index()\n",
    "\n",
    "#total recents per forest\n",
    "total_recent = recentpermits.groupby('FORESTNAME')['FORESTNAME'].count().to_frame(name = 'recents').reset_index()"
   ]
  },
  {
   "cell_type": "markdown",
   "metadata": {},
   "source": [
    "# Join the Group Bys into one dataframe"
   ]
  },
  {
   "cell_type": "code",
   "execution_count": 22,
   "metadata": {},
   "outputs": [],
   "source": [
    "#merge total permits and expired permits\n",
    "join1 = totalpermits.merge(total_ex_permits, left_on='FORESTNAME', right_on=\"FORESTNAME\",how=\"left\")\n",
    "\n",
    "#merge total permits, expired permits and no exp date permits\n",
    "join2 = join1.merge(total_no_date, left_on='FORESTNAME', right_on=\"FORESTNAME\",how=\"left\")\n",
    "\n",
    "#merge total permits, expired, no exp, and discretion permits\n",
    "join3 = join2.merge(discretion, left_on='FORESTNAME', right_on=\"FORESTNAME\",how=\"left\")\n",
    "\n",
    "#merge total permits, expired, no exp, discretion and ditchbills\n",
    "df6 = join3.merge(ditchbills, left_on='FORESTNAME', right_on=\"FORESTNAME\",how=\"left\")"
   ]
  },
  {
   "cell_type": "markdown",
   "metadata": {},
   "source": [
    "# Determine the percent of each variable out of all permits"
   ]
  },
  {
   "cell_type": "code",
   "execution_count": 23,
   "metadata": {},
   "outputs": [],
   "source": [
    "#percent of all permits expired\n",
    "df6['percent_expired'] = df6['expired']/df6['total_structures']\n",
    "\n",
    "#percent of all permits that have blank exp\n",
    "df6['percent_blank_exp'] = df6['blank_expiration']/df6['total_structures']\n",
    "\n",
    "#percent of the blank exp that are ditchbills\n",
    "df6['percent_of_blank_exp_that_are_ditchbills'] = df6['ditchbill']/df6['blank_expiration']\n",
    "\n",
    "#percent of all permits that the FS has discretion over\n",
    "df6['percent_discretion'] = df6['discretion']/df6['total_structures']\n",
    "\n",
    "#percent of all permits that are (definitely) ditchbills \n",
    "df6['percent_of_total_that_are_ditchbills'] = df6['ditchbill']/df6['total_structures']"
   ]
  },
  {
   "cell_type": "markdown",
   "metadata": {},
   "source": [
    "# Create a csv that has permits per forest"
   ]
  },
  {
   "cell_type": "code",
   "execution_count": 24,
   "metadata": {},
   "outputs": [],
   "source": [
    "df6.to_csv('permitsbyforest.csv')"
   ]
  },
  {
   "cell_type": "markdown",
   "metadata": {},
   "source": [
    "# Group by variables on ranger district"
   ]
  },
  {
   "cell_type": "code",
   "execution_count": 34,
   "metadata": {},
   "outputs": [],
   "source": [
    "#total permits by district\n",
    "totalpermits_by_district = active_permits.groupby('DISTRICTNA')['DISTRICTNA'].count().to_frame(name = 'total_structures').reset_index()\n",
    "\n",
    "#total expired permits by district\n",
    "total_ex_permits_by_district = expired.groupby('DISTRICTNA')['DISTRICTNA'].count().to_frame(name = 'expired').reset_index()\n",
    "\n",
    "#total no date by district\n",
    "total_no_date_by_district = activepermitsnodate.groupby('DISTRICTNA')['DISTRICTNA'].count().to_frame(name = 'blank_expiration').reset_index()\n",
    "\n",
    "#total ditchbills by district\n",
    "ditchbills_by_district = ditchbill.groupby('DISTRICTNA')['DISTRICTNA'].count().to_frame(name = 'ditchbill').reset_index()\n",
    "\n",
    "#total discretion by district\n",
    "discretion_by_district = fs_discretion.groupby('DISTRICTNA')['DISTRICTNA'].count().to_frame(name = 'discretion').reset_index()\n",
    "\n",
    "#total recents per district\n",
    "total_recent_by_district = recentpermits.groupby('DISTRICTNA')['DISTRICTNA'].count().to_frame(name = 'recents').reset_index()\n"
   ]
  },
  {
   "cell_type": "markdown",
   "metadata": {},
   "source": [
    "# Join the District Group Bys into on frame"
   ]
  },
  {
   "cell_type": "code",
   "execution_count": 35,
   "metadata": {},
   "outputs": [],
   "source": [
    "#join total permits with the expired permits\n",
    "join1 = totalpermits_by_district.merge(total_ex_permits_by_district, left_on='DISTRICTNA', right_on=\"DISTRICTNA\",how=\"left\")\n",
    "\n",
    "#join total permits, expired and no exp permits\n",
    "join2 = join1.merge(total_no_date_by_district, left_on='DISTRICTNA', right_on=\"DISTRICTNA\",how=\"left\")\n",
    "\n",
    "#join total permits, expired, no exp and ditch bills\n",
    "join3 = join2.merge(ditchbills_by_district, left_on='DISTRICTNA', right_on=\"DISTRICTNA\",how=\"left\")\n",
    "\n",
    "#join total permits, expired, no exp, ditch bills and discretion\n",
    "join4 = join3.merge(discretion_by_district, left_on='DISTRICTNA', right_on=\"DISTRICTNA\",how=\"left\")\n",
    "\n",
    "#join total permits, expired, no exp, ditch bills and recents\n",
    "df6 = join4.merge(total_recent_by_district, left_on='DISTRICTNA', right_on=\"DISTRICTNA\",how=\"left\")"
   ]
  },
  {
   "cell_type": "markdown",
   "metadata": {},
   "source": [
    "# Calculate the percentage of the variables by district"
   ]
  },
  {
   "cell_type": "code",
   "execution_count": 36,
   "metadata": {},
   "outputs": [],
   "source": [
    "#percent of all permits that are expired\n",
    "df6['percent_expired'] = df6['expired']/df6['total_structures']\n",
    "#percent of all permits that  have blank exp\n",
    "df6['percent_blank_exp'] = df6['blank_expiration']/df6['total_structures']\n",
    "#percent of blank exp that are ditchbills\n",
    "df6['percent_of_blank_exp_that_are_ditchbills'] = df6['ditchbill']/df6['blank_expiration']\n",
    "#percent of all permits that are ditchbills \n",
    "df6['percent_of_total_that_are_ditchbills'] = df6['ditchbill']/df6['total_structures']\n",
    "#percent of all permits that the FS has discretion\n",
    "df6['percent_discretion'] = df6['discretion']/df6['total_structures']"
   ]
  },
  {
   "cell_type": "markdown",
   "metadata": {},
   "source": [
    "# Create a file that is permits per district"
   ]
  },
  {
   "cell_type": "code",
   "execution_count": 37,
   "metadata": {},
   "outputs": [],
   "source": [
    "df6.to_csv('permitsbydistrict.csv')"
   ]
  }
 ],
 "metadata": {
  "kernelspec": {
   "display_name": "Python 3",
   "language": "python",
   "name": "python3"
  },
  "language_info": {
   "codemirror_mode": {
    "name": "ipython",
    "version": 3
   },
   "file_extension": ".py",
   "mimetype": "text/x-python",
   "name": "python",
   "nbconvert_exporter": "python",
   "pygments_lexer": "ipython3",
   "version": "3.8.8"
  }
 },
 "nbformat": 4,
 "nbformat_minor": 4
}
