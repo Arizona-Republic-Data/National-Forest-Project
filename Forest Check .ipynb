This code confirms that permits or easements exist in every national forest in the continental US.
{
 "cells": [
  {
   "cell_type": "code",
   "execution_count": 36,
   "metadata": {},
   "outputs": [],
   "source": [
    "import pandas as pd\n",
    "import csv as csv\n",
    "import geopandas as gp\n",
    "#read the master permits file\n",
    "df = pd.read_csv('permits_master_1.csv', dtype={'RRFF': str, 'RRFFDD': str})\n",
    "#add this field so I can easily see what joined and what didn't \n",
    "df['JOIN'] = 'YES'\n",
    "#select for only active_permits\n",
    "active_permits =  df[df['STATUS'] == 'ISSUED'] \n",
    "#select only forest column, and join column, drop all dupes so I just get a list of all the forests in the data\n",
    "forestswithpermits = active_permits[['FORESTNAME', 'JOIN']]\n",
    "forestswithpermits = forests.drop_duplicates()"
   ]
  },
  {
   "cell_type": "code",
   "execution_count": 43,
   "metadata": {},
   "outputs": [],
   "source": [
    "#read the shapefile for all ranger districts\n",
    "zipfile = \"zip:///Users/cmcglade/Documents/S_USA.RangerDistrict.zip\"\n",
    "allforests = gp.read_file(zipfile)\n",
    "allforests = allforests.to_crs('EPSG:5070')\n",
    "#Drop everything but forest name, drop duplicates (created by having ranger districts in the file)\n",
    "allforests = allforests[['FORESTNAME']]\n",
    "allforests = allforests.drop_duplicates()"
   ]
  },
  {
   "cell_type": "code",
   "execution_count": 47,
   "metadata": {},
   "outputs": [
    {
     "data": {
      "text/html": [
       "<div>\n",
       "<style scoped>\n",
       "    .dataframe tbody tr th:only-of-type {\n",
       "        vertical-align: middle;\n",
       "    }\n",
       "\n",
       "    .dataframe tbody tr th {\n",
       "        vertical-align: top;\n",
       "    }\n",
       "\n",
       "    .dataframe thead th {\n",
       "        text-align: right;\n",
       "    }\n",
       "</style>\n",
       "<table border=\"1\" class=\"dataframe\">\n",
       "  <thead>\n",
       "    <tr style=\"text-align: right;\">\n",
       "      <th></th>\n",
       "      <th>FORESTNAME</th>\n",
       "      <th>JOIN</th>\n",
       "    </tr>\n",
       "  </thead>\n",
       "  <tbody>\n",
       "    <tr>\n",
       "      <th>79</th>\n",
       "      <td>El Yunque National Forest</td>\n",
       "      <td>NaN</td>\n",
       "    </tr>\n",
       "  </tbody>\n",
       "</table>\n",
       "</div>"
      ],
      "text/plain": [
       "                   FORESTNAME JOIN\n",
       "79  El Yunque National Forest  NaN"
      ]
     },
     "execution_count": 47,
     "metadata": {},
     "output_type": "execute_result"
    }
   ],
   "source": [
    "#merge the permitted forests with all forests\n",
    "forestcheck = allforests.merge(forestswithpermits, left_on='FORESTNAME', right_on=\"FORESTNAME\",how=\"left\")\n",
    "bool_series = pd.isnull(forestcheck['JOIN'])\n",
    "nojoin = forestcheck[bool_series]\n",
    "nojoin.head(10)"
   ]
  }
 ],
 "metadata": {
  "kernelspec": {
   "display_name": "Python 3",
   "language": "python",
   "name": "python3"
  },
  "language_info": {
   "codemirror_mode": {
    "name": "ipython",
    "version": 3
   },
   "file_extension": ".py",
   "mimetype": "text/x-python",
   "name": "python",
   "nbconvert_exporter": "python",
   "pygments_lexer": "ipython3",
   "version": "3.8.8"
  }
 },
 "nbformat": 4,
 "nbformat_minor": 4
}
