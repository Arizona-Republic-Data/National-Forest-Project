{
 "cells": [
  {
   "cell_type": "code",
   "execution_count": 9,
   "id": "934876ba",
   "metadata": {},
   "outputs": [],
   "source": [
    "import pandas as pd\n",
    "import csv\n",
    "#import geopandas as gp"
   ]
  },
  {
   "cell_type": "markdown",
   "id": "f1076b21",
   "metadata": {},
   "source": [
    "What does MANAGING_ORG mean in the header? Is that the ranger district where the structure is located?\n",
    "MANAGING_ORG identifies the district responsible for administration of the authorized use, most likely it is also occurring on that district or forest. It also shows up in some reports as ‘RRFFDD.’\n",
    "It identifies the region, the forest, and the district.  Sometimes the number is displayed as a six-digit number and sometimes its displayed as a five-digit number.  That’s a result of Excel autoformatting numbers.\n",
    "Either way, the first two numbers, if six, are the region. If it’s five, the first number is the region. The next two are the forest and the last two are the district. \n",
    "                                                               i.      050357 = Region 5, Forest 3, District 57\n",
    "                                                             ii.      0304 = Region 3, Forest 4\n",
    "                                                           iii.      21301 = Region 2, Forest 13, District 1"
   ]
  },
  {
   "cell_type": "markdown",
   "id": "219217d2",
   "metadata": {},
   "source": [
    "# Read the original permit file, call it 'original'"
   ]
  },
  {
   "cell_type": "code",
   "execution_count": 3,
   "id": "69e16938",
   "metadata": {},
   "outputs": [],
   "source": [
    "original = pd.read_excel('original water use file.xlsx', dtype={'CN': str, 'RRFFDD': str})\n",
    "#split up region, forest and district\n",
    "original['region'] = original['RRFFDD'].str[:2]\n",
    "original['forest'] = original['RRFFDD'].str[2:4]\n",
    "original['district'] = original['RRFFDD'].str[4:6]\n",
    "original['rrffdd_count'] = original['RRFFDD'].str.len()\n",
    "#check to see how many complete numbers we have \n",
    "#stringcount = original.groupby('rrffdd_count')['rrffdd_count'].count().to_frame(name = 'count').reset_index()\n",
    "#stringcount.sort_values('count', ascending=False).head(20)"
   ]
  },
  {
   "cell_type": "code",
   "execution_count": 8,
   "id": "e20bb6b0",
   "metadata": {},
   "outputs": [
    {
     "data": {
      "text/html": [
       "<div>\n",
       "<style scoped>\n",
       "    .dataframe tbody tr th:only-of-type {\n",
       "        vertical-align: middle;\n",
       "    }\n",
       "\n",
       "    .dataframe tbody tr th {\n",
       "        vertical-align: top;\n",
       "    }\n",
       "\n",
       "    .dataframe thead th {\n",
       "        text-align: right;\n",
       "    }\n",
       "</style>\n",
       "<table border=\"1\" class=\"dataframe\">\n",
       "  <thead>\n",
       "    <tr style=\"text-align: right;\">\n",
       "      <th></th>\n",
       "      <th>rrffdd_count</th>\n",
       "      <th>count</th>\n",
       "    </tr>\n",
       "  </thead>\n",
       "  <tbody>\n",
       "    <tr>\n",
       "      <th>2</th>\n",
       "      <td>6</td>\n",
       "      <td>17340</td>\n",
       "    </tr>\n",
       "    <tr>\n",
       "      <th>1</th>\n",
       "      <td>4</td>\n",
       "      <td>926</td>\n",
       "    </tr>\n",
       "    <tr>\n",
       "      <th>0</th>\n",
       "      <td>2</td>\n",
       "      <td>3</td>\n",
       "    </tr>\n",
       "  </tbody>\n",
       "</table>\n",
       "</div>"
      ],
      "text/plain": [
       "   rrffdd_count  count\n",
       "2             6  17340\n",
       "1             4    926\n",
       "0             2      3"
      ]
     },
     "execution_count": 8,
     "metadata": {},
     "output_type": "execute_result"
    }
   ],
   "source": [
    "#there are four permits that belong to regions that don't exist\n",
    "lengthcheck = original.groupby('rrffdd_count')['rrffdd_count'].count().to_frame(name = 'count').reset_index()\n",
    "lengthcheck.sort_values('count', ascending=False).head(20)"
   ]
  },
  {
   "cell_type": "markdown",
   "id": "2cc36d6d",
   "metadata": {},
   "source": [
    "# Read the ranger district shapefile as 'districts'"
   ]
  },
  {
   "cell_type": "code",
   "execution_count": 112,
   "id": "b94d62ff",
   "metadata": {},
   "outputs": [],
   "source": [
    "zipfile = \"zip:///Users/cmcglade/Downloads/S_USA.RangerDistrict.zip\"\n",
    "districts = gp.read_file(zipfile)\n",
    "districts = districts.to_crs('EPSG:5070')"
   ]
  },
  {
   "cell_type": "markdown",
   "id": "d2cb94b4",
   "metadata": {},
   "source": [
    "# Merge the district file with the original permit data, call it 'districtmerge'\n",
    "1,406 out of 18,269 permits did not match a district"
   ]
  },
  {
   "cell_type": "code",
   "execution_count": 113,
   "id": "84311ab2",
   "metadata": {},
   "outputs": [],
   "source": [
    "districtmerge = original.merge(districts, left_on='RRFFDD', right_on=\"DISTRICTOR\",how=\"left\")\n",
    "districtmerge = districtmerge[['CN', 'RRFFDD', 'ID', 'DISTRICTNA', 'STATUS', 'ISSUE_DATE', 'USE1_NAME', 'USE2_NAME', 'USE3_NAME', 'EXP_EXPIRATION_DATE', 'CONTACT_TYPE', 'CONTACT_NAME', 'PREVIOUS_AUTH', 'region', 'forest', 'district', 'rrffdd_count']]\n",
    "districtmerge.to_csv('districtmerge.csv')"
   ]
  },
  {
   "cell_type": "code",
   "execution_count": 114,
   "id": "31ff62ea",
   "metadata": {},
   "outputs": [
    {
     "data": {
      "text/plain": [
       "(18269, 17)"
      ]
     },
     "execution_count": 114,
     "metadata": {},
     "output_type": "execute_result"
    }
   ],
   "source": [
    "districtmerge.shape"
   ]
  },
  {
   "cell_type": "markdown",
   "id": "7c16cefb",
   "metadata": {},
   "source": [
    "# Select forests from the district shapefile, merge districtmerge to forest names to capture the permits that didn't have a district number\n",
    "Only 129 permits out of 18,269 did not match a forest.  "
   ]
  },
  {
   "cell_type": "code",
   "execution_count": 115,
   "id": "47b9de9d",
   "metadata": {},
   "outputs": [],
   "source": [
    "forests = districts[['REGION', 'FORESTNUMB', 'FORESTNAME']]\n",
    "forests = forests.drop_duplicates()\n",
    "forestmerge = pd.merge(districtmerge, forests,  how='left', left_on=['region','forest'], right_on = ['REGION','FORESTNUMB'])\n",
    "forestmerge.to_csv('permits_master_1.csv')"
   ]
  },
  {
   "cell_type": "code",
   "execution_count": 116,
   "id": "9f134910",
   "metadata": {},
   "outputs": [
    {
     "data": {
      "text/plain": [
       "(7615, 20)"
      ]
     },
     "execution_count": 116,
     "metadata": {},
     "output_type": "execute_result"
    }
   ],
   "source": [
    "active_permits =  forestmerge[forestmerge['STATUS'] == 'ISSUED']\n",
    "active_permits.shape\n",
    "#dupecheck = active_permits.groupby('ID')['ID'].count().to_frame(name = 'count').reset_index()\n",
    "#dupecheck.sort_values('count', ascending=False).head(20)"
   ]
  },
  {
   "cell_type": "code",
   "execution_count": 117,
   "id": "29df54da",
   "metadata": {},
   "outputs": [],
   "source": [
    "forestmerge = forestmerge[['CN', 'RRFFDD', 'ID', 'STATUS', 'ISSUE_DATE', 'USE1_NAME',\n",
    "       'USE2_NAME', 'USE3_NAME', 'EXP_EXPIRATION_DATE', 'CONTACT_TYPE',\n",
    "       'CONTACT_NAME', 'PREVIOUS_AUTH', 'region', 'forest', 'district',\n",
    "       'rrffdd_count', 'FORESTNAME', 'DISTRICTNA']]"
   ]
  },
  {
   "cell_type": "markdown",
   "id": "f0833b99",
   "metadata": {},
   "source": [
    "# DATA DICTIONARY\n",
    "CN = unique ID for every permit\n",
    "\n",
    "RRFFDD = Region, Forest, District ID\n",
    "\n",
    "ID = unique ID for each permit within a ranger district. \n",
    "\n",
    "STATUS = the status of the permit. 'Issued' are the current ones. \n",
    "\n",
    "USE1_NAME = One of the structures that this permit covers\n",
    "\n",
    "Use2_NAME = Another structure taht this permit covers\n",
    "\n",
    "Use3_NAME = A third structure that this permit covers\n",
    "\n",
    "ISSUE_DATE = The date the permit was issued \n",
    "\n",
    "EXP_EXPIRATION_DATE = The date the permit expires\n",
    "\n",
    "CONTACT_TYPE = Permittee contact type\n",
    "\n",
    "CONTACT_NAME = Permittee contact name\n",
    "\n",
    "region = the region number where the permit is located\n",
    "\n",
    "forest = the forest number where the permit is located\n",
    "\n",
    "district = the ranger district number where the permit is located \n",
    "\n",
    "rrffdd_count = the number of characters in the RRFFDD field so that I could tell which ones definitely wouldn't join on district \n",
    "\n",
    "FORESTNAME = the name of the forest where the permit is located\n",
    "\n",
    "DISTRICTNA = The name of the ranger district where the permit is located"
   ]
  },
  {
   "cell_type": "code",
   "execution_count": null,
   "id": "161ce844",
   "metadata": {},
   "outputs": [],
   "source": []
  }
 ],
 "metadata": {
  "kernelspec": {
   "display_name": "Python 3",
   "language": "python",
   "name": "python3"
  },
  "language_info": {
   "codemirror_mode": {
    "name": "ipython",
    "version": 3
   },
   "file_extension": ".py",
   "mimetype": "text/x-python",
   "name": "python",
   "nbconvert_exporter": "python",
   "pygments_lexer": "ipython3",
   "version": "3.8.8"
  }
 },
 "nbformat": 4,
 "nbformat_minor": 5
}
